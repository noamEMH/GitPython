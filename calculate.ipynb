{
 "cells": [
  {
   "cell_type": "code",
   "execution_count": null,
   "id": "398c24a3-3012-432b-b1b0-f074b04d4f4b",
   "metadata": {},
   "outputs": [
    {
     "name": "stdout",
     "output_type": "stream",
     "text": [
      "1.Additionner ? 2.Soustraire ? 3.Diviser ? 4.Multiplier ? 5. Mettre au carré ? 6. Racine carrée ? 7. Voir les 5 derniers calculs ?\n"
     ]
    },
    {
     "name": "stdin",
     "output_type": "stream",
     "text": [
      "Quel calcul voulez vous faire ? 7\n"
     ]
    },
    {
     "name": "stdout",
     "output_type": "stream",
     "text": [
      "Les 5 derniers calculs :\n",
      "Calcul : 5 * 6 = 30\n",
      "Calcul : 4 + 9 = 13\n",
      "Calcul : √90 = 9.486832980505138\n",
      "Calcul : 56² = 3136\n",
      "Calcul : √25 = 5.0\n"
     ]
    },
    {
     "name": "stdin",
     "output_type": "stream",
     "text": [
      "Si vous voulez continuer, tapez 1. Sinon, n'importe quel chiffre  1\n"
     ]
    },
    {
     "name": "stdout",
     "output_type": "stream",
     "text": [
      "1.Additionner ? 2.Soustraire ? 3.Diviser ? 4.Multiplier ? 5. Mettre au carré ? 6. Racine carrée ? 7. Voir les 5 derniers calculs ?\n"
     ]
    },
    {
     "name": "stdin",
     "output_type": "stream",
     "text": [
      "Quel calcul voulez vous faire ? 1\n",
      "Quel est votre premier nombre ?  56\n",
      "Quel est votre second nombre ?  9\n"
     ]
    },
    {
     "name": "stdout",
     "output_type": "stream",
     "text": [
      "65\n"
     ]
    }
   ],
   "source": [
    "from math import sqrt\n",
    "\n",
    "def add(x, y):\n",
    "    calc_str = f\"{x} + {y}\"\n",
    "    result = x + y\n",
    "    print(result)\n",
    "    return calc_str, result\n",
    "\n",
    "def sub(x, y):\n",
    "    calc_str = f\"{x} - {y}\"\n",
    "    result = x - y\n",
    "    print(result)\n",
    "    return calc_str, result\n",
    "\n",
    "def div(x, y):\n",
    "    calc_str = f\"{x} / {y}\"\n",
    "    result = x / y\n",
    "    print(result)\n",
    "    return calc_str, result\n",
    "\n",
    "def mult(x, y):\n",
    "    calc_str = f\"{x} * {y}\"\n",
    "    result = x * y\n",
    "    print(result)\n",
    "    return calc_str, result\n",
    "\n",
    "def squar(x):\n",
    "    calc_str = f\"{x}²\"\n",
    "    result = x * x\n",
    "    print(result)\n",
    "    return calc_str, result\n",
    "\n",
    "def sqr_ro(x):\n",
    "    calc_str = f\"√{x}\"\n",
    "    result = sqrt(x)\n",
    "    print(result)\n",
    "    return calc_str, result\n",
    "\n",
    "def afficher_5_derniers_calculs(nom_fichier=\"memoire_calculate.txt\"):\n",
    "    try:\n",
    "        with open(nom_fichier, 'r', encoding='utf-8') as f:\n",
    "            lignes = f.readlines()\n",
    "            dernieres_lignes = lignes[-5:]\n",
    "            print(\"Les 5 derniers calculs :\")\n",
    "            for ligne in dernieres_lignes:\n",
    "                print(ligne.strip()) \n",
    "    except FileNotFoundError:\n",
    "        print(\"Le fichier n'a pas été trouvé\")\n",
    "\n",
    "cont = 1\n",
    "while cont == 1:\n",
    "    print(\"1.Additionner ? 2.Soustraire ? 3.Diviser ? 4.Multiplier ? 5. Mettre au carré ? 6. Racine carrée ? 7. Voir les 5 derniers calculs ?\")\n",
    "    calcul = int(input(\"Quel calcul voulez vous faire ?\"))\n",
    "    calc_expression = \"\"\n",
    "    resultat_final = None\n",
    "\n",
    "    if calcul == 1:\n",
    "        nombre1 = int(input(\"Quel est votre premier nombre ? \"))\n",
    "        nombre2 = int(input(\"Quel est votre second nombre ? \"))\n",
    "        calc_expression, resultat_final = add(nombre1, nombre2)\n",
    "    elif calcul == 2:\n",
    "        nombre1 = int(input(\"Quel est votre premier nombre ? \"))\n",
    "        nombre2 = int(input(\"Quel est votre second nombre ? \"))\n",
    "        calc_expression, resultat_final = sub(nombre1, nombre2)\n",
    "    elif calcul == 3:\n",
    "        nombre1 = int(input(\"Quel est votre premier nombre ? \"))\n",
    "        nombre2 = int(input(\"Quel est votre second nombre ? \"))\n",
    "        calc_expression, resultat_final = div(nombre1, nombre2)\n",
    "    elif calcul == 4:\n",
    "        nombre1 = int(input(\"Quel est votre premier nombre ? \"))\n",
    "        nombre2 = int(input(\"Quel est votre second nombre ? \"))\n",
    "        calc_expression, resultat_final = mult(nombre1, nombre2)\n",
    "    elif calcul == 5:\n",
    "        nombre = int(input(\"Quel nombre calculer ? \"))\n",
    "        calc_expression, resultat_final = squar(nombre)\n",
    "    elif calcul == 6:\n",
    "        nombre = int(input(\"Quel nombre calculer ? \"))\n",
    "        calc_expression, resultat_final = sqr_ro(nombre)\n",
    "    elif calcul == 7:\n",
    "        afficher_5_derniers_calculs()\n",
    "\n",
    "    if calc_expression and resultat_final is not None:\n",
    "        try:\n",
    "            with open(\"memoire_calculate.txt\", \"a\", encoding='utf_8') as f: \n",
    "                f.write(f\"Calcul : {calc_expression} = {resultat_final}\\n\")\n",
    "        except FileNotFoundError:\n",
    "            with open(\"memoire_calculate.txt\", \"w\", encoding='utf_8') as f: \n",
    "                f.write(f\"Calcul : {calc_expression} = {resultat_final}\\n\")\n",
    "        \n",
    "\n",
    "    cont = int(input(\"Si vous voulez continuer, tapez 1. Sinon, n'importe quel chiffre \"))\n",
    "\n",
    "print(\"Calculatrice éteinte.\")"
   ]
  },
  {
   "cell_type": "code",
   "execution_count": null,
   "id": "b11c039f-3895-4c55-adde-2b9e2468fa33",
   "metadata": {},
   "outputs": [],
   "source": []
  }
 ],
 "metadata": {
  "kernelspec": {
   "display_name": "Python 3 (ipykernel)",
   "language": "python",
   "name": "python3"
  },
  "language_info": {
   "codemirror_mode": {
    "name": "ipython",
    "version": 3
   },
   "file_extension": ".py",
   "mimetype": "text/x-python",
   "name": "python",
   "nbconvert_exporter": "python",
   "pygments_lexer": "ipython3",
   "version": "3.12.7"
  }
 },
 "nbformat": 4,
 "nbformat_minor": 5
}
