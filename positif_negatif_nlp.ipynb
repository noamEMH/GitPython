{
 "cells": [
  {
   "cell_type": "code",
   "execution_count": 4,
   "id": "eb712114-a764-4721-9c9d-cb0159bcfaa2",
   "metadata": {},
   "outputs": [
    {
     "name": "stderr",
     "output_type": "stream",
     "text": [
      "[nltk_data] Downloading package punkt to\n",
      "[nltk_data]     C:\\Users\\utilisateur\\AppData\\Roaming\\nltk_data...\n",
      "[nltk_data]   Package punkt is already up-to-date!\n"
     ]
    },
    {
     "name": "stdin",
     "output_type": "stream",
     "text": [
      "Donnez une phrase :  54\n",
      "Donnez une phrase :  95\n",
      "Donnez une phrase :  4546689\n",
      "Donnez une phrase :  J'aime ça\n"
     ]
    },
    {
     "name": "stdout",
     "output_type": "stream",
     "text": [
      "Cette phrase est positive.\n"
     ]
    },
    {
     "name": "stdin",
     "output_type": "stream",
     "text": [
      "Si vous voulez continuer, appuyez sur 1 :  ghji\n"
     ]
    }
   ],
   "source": [
    "import nltk\n",
    "from nltk.tokenize import word_tokenize\n",
    "nltk.download('punkt')\n",
    "\n",
    "mots_positifs = [\"j'adore\", \"aimé\", \"j'aime\", \"heureux\", \"joie\", \"super\", \"génial\", \"excellent\", \"merveilleux\", \"fantastique\", \"apprécie\", \"content\", \"ravi\", \"bon\", \"bien\"]\n",
    "mots_negatifs = [\"déteste\", \"n'aime pas\", \"triste\", \"malheureux\", \"nul\", \"mauvais\", \"horrible\", \"affreux\", \"médiocre\", \"regrette\", \"déçu\", \"ennuyé\"]\n",
    "\n",
    "conti = 1\n",
    "while conti == 1:\n",
    "    phr_ok = True\n",
    "    try:\n",
    "        while phr_ok == True:\n",
    "            phrase = input(\"Donnez une phrase : \")\n",
    "            continuer = int(phrase)\n",
    "            phr_ok = True\n",
    "    except ValueError:\n",
    "        phr_ok = False\n",
    "        tokens = word_tokenize(phrase.lower())\n",
    "        sentiment_positif = False\n",
    "        sentiment_negatif = False\n",
    "        for token in tokens:\n",
    "            if token in mots_positifs:\n",
    "                sentiment_positif = True\n",
    "            elif token in mots_negatifs:\n",
    "                sentiment_negatif = True\n",
    "\n",
    "        if sentiment_positif and sentiment_negatif:\n",
    "            print(\"Cette phrase est mixte.\")\n",
    "        elif sentiment_positif:\n",
    "            print(\"Cette phrase est positive.\")\n",
    "        elif sentiment_negatif:\n",
    "            print(\"Cette phrase est négative.\")\n",
    "        else:\n",
    "            print(\"Cette phrase est neutre\")\n",
    "\n",
    "        continuer_input = input(\"Si vous voulez continuer, appuyez sur 1 : \")\n",
    "        try:\n",
    "            conti = int(continuer_input)\n",
    "        except ValueError:\n",
    "            conti = 0"
   ]
  },
  {
   "cell_type": "code",
   "execution_count": null,
   "id": "a96e1ad1-d611-4de5-8c47-59b54d57b217",
   "metadata": {},
   "outputs": [],
   "source": []
  }
 ],
 "metadata": {
  "kernelspec": {
   "display_name": "Python 3 (ipykernel)",
   "language": "python",
   "name": "python3"
  },
  "language_info": {
   "codemirror_mode": {
    "name": "ipython",
    "version": 3
   },
   "file_extension": ".py",
   "mimetype": "text/x-python",
   "name": "python",
   "nbconvert_exporter": "python",
   "pygments_lexer": "ipython3",
   "version": "3.12.7"
  }
 },
 "nbformat": 4,
 "nbformat_minor": 5
}
