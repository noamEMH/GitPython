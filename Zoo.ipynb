{
 "cells": [
  {
   "cell_type": "code",
   "execution_count": 2,
   "id": "35d73eed-c76f-44e8-baa6-f957cec8804a",
   "metadata": {},
   "outputs": [
    {
     "name": "stdout",
     "output_type": "stream",
     "text": [
      "Bienvenue au zoo\n",
      "Commençons par le premier\n",
      "Nemo est dans son aquarium\n",
      "Que voulez vous faire avec lui ? 1. Lire son panneaux de présentation ? 2. L'écouter ? 3. Passer au prochain\n"
     ]
    },
    {
     "name": "stdin",
     "output_type": "stream",
     "text": [
      "Répondez avec juste le chiffre khjik\n"
     ]
    },
    {
     "name": "stdout",
     "output_type": "stream",
     "text": [
      "Vous n'avez pas rentré de chiffre valide !\n",
      "Dolly est dans son enclos\n",
      "Que voulez vous faire avec lui ? 1. Lire son panneaux de présentation ? 2. L'écouter ? 3. Passer au prochain\n"
     ]
    },
    {
     "name": "stdin",
     "output_type": "stream",
     "text": [
      "Répondez avec juste le chiffre 56\n"
     ]
    },
    {
     "name": "stdout",
     "output_type": "stream",
     "text": [
      "Vous avez mis un mauvais chiffre ! Dommage\n",
      "Goku est dans son enclos\n",
      "Que voulez vous faire avec lui ? 1. Lire son panneaux de présentation ? 2. L'écouter ? 3. Passer au prochain\n"
     ]
    },
    {
     "name": "stdin",
     "output_type": "stream",
     "text": [
      "Répondez avec juste le chiffre 3\n"
     ]
    },
    {
     "name": "stdout",
     "output_type": "stream",
     "text": [
      "On passe au suivant\n",
      "Shenron est dans son vivarium\n",
      "Que voulez vous faire avec lui ? 1. Lire son panneaux de présentation ? 2. L'écouter ? 3. Passer au prochain\n"
     ]
    },
    {
     "name": "stdin",
     "output_type": "stream",
     "text": [
      "Répondez avec juste le chiffre 3\n"
     ]
    },
    {
     "name": "stdout",
     "output_type": "stream",
     "text": [
      "On passe au suivant\n",
      "Zéphir est dans son enclos\n",
      "Que voulez vous faire avec lui ? 1. Lire son panneaux de présentation ? 2. L'écouter ? 3. Passer au prochain\n"
     ]
    },
    {
     "name": "stdin",
     "output_type": "stream",
     "text": [
      "Répondez avec juste le chiffre 3\n"
     ]
    },
    {
     "name": "stdout",
     "output_type": "stream",
     "text": [
      "On passe au suivant\n",
      "Opaline est là\n",
      "Que voulez vous faire avec lui ? 1. Lire son panneaux de présentation ? 2. L'écouter ? 3. Passer au prochain\n"
     ]
    },
    {
     "name": "stdin",
     "output_type": "stream",
     "text": [
      "Répondez avec juste le chiffre \n"
     ]
    },
    {
     "name": "stdout",
     "output_type": "stream",
     "text": [
      "Vous n'avez pas rentré de chiffre valide !\n",
      "Solstice est dans sa mare\n",
      "Que voulez vous faire avec lui ? 1. Lire son panneaux de présentation ? 2. L'écouter ? 3. Passer au prochain\n"
     ]
    },
    {
     "name": "stdin",
     "output_type": "stream",
     "text": [
      "Répondez avec juste le chiffre 3\n"
     ]
    },
    {
     "name": "stdout",
     "output_type": "stream",
     "text": [
      "On passe au suivant\n",
      "Brume est dans son aquarium\n",
      "Que voulez vous faire avec lui ? 1. Lire son panneaux de présentation ? 2. L'écouter ? 3. Passer au prochain\n"
     ]
    },
    {
     "name": "stdin",
     "output_type": "stream",
     "text": [
      "Répondez avec juste le chiffre 3\n"
     ]
    },
    {
     "name": "stdout",
     "output_type": "stream",
     "text": [
      "On passe au suivant\n",
      "Célian est dans son enclos\n",
      "Que voulez vous faire avec lui ? 1. Lire son panneaux de présentation ? 2. L'écouter ? 3. Passer au prochain\n"
     ]
    },
    {
     "name": "stdin",
     "output_type": "stream",
     "text": [
      "Répondez avec juste le chiffre 3\n"
     ]
    },
    {
     "name": "stdout",
     "output_type": "stream",
     "text": [
      "On passe au suivant\n",
      "Lysandre est là\n",
      "Que voulez vous faire avec lui ? 1. Lire son panneaux de présentation ? 2. L'écouter ? 3. Passer au prochain\n"
     ]
    },
    {
     "name": "stdin",
     "output_type": "stream",
     "text": [
      "Répondez avec juste le chiffre 3\n"
     ]
    },
    {
     "name": "stdout",
     "output_type": "stream",
     "text": [
      "On passe au suivant\n",
      "Naeva est dans son enclos\n",
      "Que voulez vous faire avec lui ? 1. Lire son panneaux de présentation ? 2. L'écouter ? 3. Passer au prochain\n"
     ]
    },
    {
     "name": "stdin",
     "output_type": "stream",
     "text": [
      "Répondez avec juste le chiffre 33\n"
     ]
    },
    {
     "name": "stdout",
     "output_type": "stream",
     "text": [
      "Vous avez mis un mauvais chiffre ! Dommage\n",
      "Orion est là\n",
      "Que voulez vous faire avec lui ? 1. Lire son panneaux de présentation ? 2. L'écouter ? 3. Passer au prochain\n"
     ]
    },
    {
     "name": "stdin",
     "output_type": "stream",
     "text": [
      "Répondez avec juste le chiffre 3\n"
     ]
    },
    {
     "name": "stdout",
     "output_type": "stream",
     "text": [
      "On passe au suivant\n",
      "Thélio est là\n",
      "Que voulez vous faire avec lui ? 1. Lire son panneaux de présentation ? 2. L'écouter ? 3. Passer au prochain\n"
     ]
    },
    {
     "name": "stdin",
     "output_type": "stream",
     "text": [
      "Répondez avec juste le chiffre 3\n"
     ]
    },
    {
     "name": "stdout",
     "output_type": "stream",
     "text": [
      "On passe au suivant\n",
      "Ysée est dans son enclos\n",
      "Que voulez vous faire avec lui ? 1. Lire son panneaux de présentation ? 2. L'écouter ? 3. Passer au prochain\n"
     ]
    },
    {
     "name": "stdin",
     "output_type": "stream",
     "text": [
      "Répondez avec juste le chiffre 3\n"
     ]
    },
    {
     "name": "stdout",
     "output_type": "stream",
     "text": [
      "On passe au suivant\n",
      "Aloïs est dans sa mare\n",
      "Que voulez vous faire avec lui ? 1. Lire son panneaux de présentation ? 2. L'écouter ? 3. Passer au prochain\n"
     ]
    },
    {
     "name": "stdin",
     "output_type": "stream",
     "text": [
      "Répondez avec juste le chiffre 3\n"
     ]
    },
    {
     "name": "stdout",
     "output_type": "stream",
     "text": [
      "On passe au suivant\n",
      "Eléonore est là\n",
      "Que voulez vous faire avec lui ? 1. Lire son panneaux de présentation ? 2. L'écouter ? 3. Passer au prochain\n"
     ]
    },
    {
     "name": "stdin",
     "output_type": "stream",
     "text": [
      "Répondez avec juste le chiffre \n"
     ]
    },
    {
     "name": "stdout",
     "output_type": "stream",
     "text": [
      "Vous n'avez pas rentré de chiffre valide !\n",
      "Gaspard est dans son enclos\n",
      "Que voulez vous faire avec lui ? 1. Lire son panneaux de présentation ? 2. L'écouter ? 3. Passer au prochain\n"
     ]
    },
    {
     "name": "stdin",
     "output_type": "stream",
     "text": [
      "Répondez avec juste le chiffre 3\n"
     ]
    },
    {
     "name": "stdout",
     "output_type": "stream",
     "text": [
      "On passe au suivant\n",
      "Isaure est dans sa mare\n",
      "Que voulez vous faire avec lui ? 1. Lire son panneaux de présentation ? 2. L'écouter ? 3. Passer au prochain\n"
     ]
    },
    {
     "name": "stdin",
     "output_type": "stream",
     "text": [
      "Répondez avec juste le chiffre 39\n"
     ]
    },
    {
     "name": "stdout",
     "output_type": "stream",
     "text": [
      "Vous avez mis un mauvais chiffre ! Dommage\n",
      "Léandre est dans son vivarium\n",
      "Que voulez vous faire avec lui ? 1. Lire son panneaux de présentation ? 2. L'écouter ? 3. Passer au prochain\n"
     ]
    },
    {
     "name": "stdin",
     "output_type": "stream",
     "text": [
      "Répondez avec juste le chiffre \n"
     ]
    },
    {
     "name": "stdout",
     "output_type": "stream",
     "text": [
      "Vous n'avez pas rentré de chiffre valide !\n",
      "Maëlis est dans son aquarium\n",
      "Que voulez vous faire avec lui ? 1. Lire son panneaux de présentation ? 2. L'écouter ? 3. Passer au prochain\n"
     ]
    },
    {
     "name": "stdin",
     "output_type": "stream",
     "text": [
      "Répondez avec juste le chiffre 9\n"
     ]
    },
    {
     "name": "stdout",
     "output_type": "stream",
     "text": [
      "Vous avez mis un mauvais chiffre ! Dommage\n",
      "Octave est là\n",
      "Que voulez vous faire avec lui ? 1. Lire son panneaux de présentation ? 2. L'écouter ? 3. Passer au prochain\n"
     ]
    },
    {
     "name": "stdin",
     "output_type": "stream",
     "text": [
      "Répondez avec juste le chiffre 9\n"
     ]
    },
    {
     "name": "stdout",
     "output_type": "stream",
     "text": [
      "Vous avez mis un mauvais chiffre ! Dommage\n",
      "Romane est là\n",
      "Que voulez vous faire avec lui ? 1. Lire son panneaux de présentation ? 2. L'écouter ? 3. Passer au prochain\n"
     ]
    },
    {
     "name": "stdin",
     "output_type": "stream",
     "text": [
      "Répondez avec juste le chiffre 9\n"
     ]
    },
    {
     "name": "stdout",
     "output_type": "stream",
     "text": [
      "Vous avez mis un mauvais chiffre ! Dommage\n",
      "Silas est dans son enclos\n",
      "Que voulez vous faire avec lui ? 1. Lire son panneaux de présentation ? 2. L'écouter ? 3. Passer au prochain\n"
     ]
    },
    {
     "name": "stdin",
     "output_type": "stream",
     "text": [
      "Répondez avec juste le chiffre 9\n"
     ]
    },
    {
     "name": "stdout",
     "output_type": "stream",
     "text": [
      "Vous avez mis un mauvais chiffre ! Dommage\n",
      "C'est fini !\n"
     ]
    }
   ],
   "source": [
    "print(\"Bienvenue au zoo\")\n",
    "class Animal:\n",
    "    def __init__(self, nom, espece):\n",
    "        self.nom = nom\n",
    "        self.espece = espece\n",
    "    def faireDuBruit(self):\n",
    "        print(\"L'animal fait du bruit\")\n",
    "    def sePresenter(self):\n",
    "        print(f\"Je m'appelle {self.nom} et je suis {self.espece}\")\n",
    "    def voir(self):\n",
    "        print(f\"{self.nom} est là\")\n",
    "    def presenter(self):\n",
    "        self.voir()\n",
    "        print(\"Que voulez vous faire avec lui ? 1. Lire son panneaux de présentation ? 2. L'écouter ? 3. Passer au prochain\")\n",
    "        try:\n",
    "            reponse = int(input(\"Répondez avec juste le chiffre\"))\n",
    "            for i in range(1):\n",
    "                if reponse == 1:\n",
    "                    self.sePresenter()\n",
    "                elif reponse == 2:\n",
    "                    self.faireDuBruit()\n",
    "                elif reponse == 3:\n",
    "                    print(\"On passe au suivant\")\n",
    "                else:\n",
    "                    print(\"Vous avez mis un mauvais chiffre ! Dommage\") \n",
    "        except ValueError:\n",
    "            print(\"Vous n'avez pas rentré de chiffre valide !\")\n",
    "class Amphibien(Animal):\n",
    "    def __init__(self, nom, espece):\n",
    "        self.nom = nom\n",
    "        self.espece = espece\n",
    "    def faireDuBruit(self):\n",
    "        print(\"*Croassement*\")\n",
    "    def voir(self):\n",
    "        print(f\"{self.nom} est dans sa mare\")\n",
    "\n",
    "class Actinoptérygien(Animal):\n",
    "    def __init__(self, nom, espece):\n",
    "        self.nom = nom\n",
    "        self.espece = espece\n",
    "    def faireDuBruit(self):\n",
    "        print(\"*Bruit d'eau*\")\n",
    "    def voir(self):\n",
    "        print(f\"{self.nom} est dans son aquarium\")\n",
    "        \n",
    "class Reptile(Animal):\n",
    "    def __init__(self, nom, espece):\n",
    "        self.nom = nom\n",
    "        self.espece = espece\n",
    "    def faireDuBruit(self):\n",
    "        print(\"*Sifflement*\")\n",
    "    def voir(self):\n",
    "        print(f\"{self.nom} est dans son vivarium\")\n",
    "\n",
    "class Mammifère(Animal):\n",
    "    def __init__(self, nom, espece):\n",
    "        self.nom = nom\n",
    "        self.espece = espece\n",
    "    def faireDuBruit(self):\n",
    "        print(\"*Cri animal*\")\n",
    "    def voir(self):\n",
    "        print(f\"{self.nom} est dans son enclos\")\n",
    "\n",
    "class Oiseau(Animal):\n",
    "    def __init__(self, nom, espece):\n",
    "        self.nom = nom\n",
    "        self.espece = espece\n",
    "    def faireDuBruit(self):\n",
    "        print(\"*Chant d'oiseau*\")\n",
    "        def voir(self):\n",
    "            print(f\"{self.nom} est dans sa volière\")\n",
    "\n",
    "class Insecte(Animal):\n",
    "    def __init__(self, nom, espece):\n",
    "        self.nom = nom\n",
    "        self.espece = espece\n",
    "    def faireDuBruit(self):\n",
    "        print(\"*Bruit d'insecte*\")\n",
    "        def voir(self):\n",
    "            print(f\"{self.nom} est dans son terrarium\")\n",
    "\n",
    "nemo = Actinoptérygien(\"Nemo\", \"un poisson clown\")\n",
    "dolly = Mammifère(\"Dolly\", \"une brebis\")\n",
    "goku = Mammifère(\"Goku\", \"un macaque rhésus\")\n",
    "shenron = Reptile(\"Shenron\", \"un dragon de komodo\")\n",
    "zephir = Mammifère(\"Zéphir\", \"un Pangolin à écailles de Temminck\")\n",
    "opaline = Oiseau(\"Opaline\", \"un Cacatoès à huppe souffrée\")\n",
    "solstice = Amphibien(\"Solstice\", \"un Salamandre tachetée\")\n",
    "brume = Actinoptérygien(\"Brume\", \"un Poisson-globe à taches noires\")\n",
    "celian = Mammifère(\"Célian\", \"un Tamarin Empereur\")\n",
    "lysandre = Insecte(\"Lysandre\", \"une mante orchidée\")\n",
    "naeva = Mammifère(\"Naeva\", \"une Paresseux à trois doigts de Hoffmann\")\n",
    "orion = Insecte(\"Orion\", \"un Scarabée rhinocéros géant\")\n",
    "thelio = Oiseau(\"Thélio\", \" une Pie-grièche écorcheur\")\n",
    "ysee = Mammifère(\"Ysée\", \"un chat pêcheur\")\n",
    "alois = Amphibien(\"Aloïs\", \" une grenouille tomate\")\n",
    "eleonore = Oiseau(\"Eléonore\", \"un Martin-pêcheur pie\")\n",
    "gaspard = Mammifère(\"Gaspard\", \"un Aye-Aye\")\n",
    "isaure = Amphibien(\"Isaure\", \"Axolotl\")\n",
    "leandre = Reptile(\"Léandre\", \"un Serpent corail faux-roi de Sinaloa\")\n",
    "maelis = Actinoptérygien(\"Maëlis\", \"un poisson-coffre jaune\")\n",
    "octave = Insecte(\"Octave\", \"un Phasme géant de Lord Howe\")\n",
    "romane = Oiseau(\"Romane\", \"une Chouette effraie\")\n",
    "silas = Mammifère(\"Silas\", \"un Babiroussa des Célèbes\")\n",
    "print(\"Commençons par le premier\")\n",
    "nemo.presenter()\n",
    "dolly.presenter()\n",
    "goku.presenter()\n",
    "shenron.presenter()\n",
    "zephir.presenter()\n",
    "opaline.presenter()\n",
    "solstice.presenter()\n",
    "brume.presenter()\n",
    "celian.presenter()\n",
    "lysandre.presenter()\n",
    "naeva.presenter()\n",
    "orion.presenter()\n",
    "thelio.presenter()\n",
    "ysee.presenter()\n",
    "alois.presenter()\n",
    "eleonore.presenter()\n",
    "gaspard.presenter()\n",
    "isaure.presenter()\n",
    "leandre.presenter()\n",
    "maelis.presenter()\n",
    "octave.presenter()\n",
    "romane.presenter()\n",
    "silas.presenter()\n",
    "print(\"C'est fini !\")"
   ]
  },
  {
   "cell_type": "code",
   "execution_count": null,
   "id": "e32be150-a39a-46c5-948f-70be788fd520",
   "metadata": {},
   "outputs": [],
   "source": []
  }
 ],
 "metadata": {
  "kernelspec": {
   "display_name": "Python 3 (ipykernel)",
   "language": "python",
   "name": "python3"
  },
  "language_info": {
   "codemirror_mode": {
    "name": "ipython",
    "version": 3
   },
   "file_extension": ".py",
   "mimetype": "text/x-python",
   "name": "python",
   "nbconvert_exporter": "python",
   "pygments_lexer": "ipython3",
   "version": "3.12.7"
  }
 },
 "nbformat": 4,
 "nbformat_minor": 5
}
