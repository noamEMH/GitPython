{
 "cells": [
  {
   "cell_type": "code",
   "execution_count": 1,
   "id": "b9bcd081-d6a9-49aa-9d44-4df4d78981e7",
   "metadata": {},
   "outputs": [
    {
     "name": "stdout",
     "output_type": "stream",
     "text": [
      "------- Bienvenue au quizz des capitales ! -------\n",
      "Vous allez devoir me dire quel est la capitale du pays que je vais vous donner !\n",
      "Quelle est la capitale de la suisse ?\n"
     ]
    },
    {
     "name": "stdin",
     "output_type": "stream",
     "text": [
      "Alors ? Berne\n"
     ]
    },
    {
     "name": "stdout",
     "output_type": "stream",
     "text": [
      "C'est correct\n",
      "Vous gagnez un point !\n",
      "Vous avez 1 points\n"
     ]
    },
    {
     "name": "stdin",
     "output_type": "stream",
     "text": [
      "Voulez-vous continuer ? Si oui, mettez 1. Si non, mettez 0 df\n"
     ]
    },
    {
     "name": "stdout",
     "output_type": "stream",
     "text": [
      "Vous avez mis des lettres ! Il faut des chiffres !\n"
     ]
    }
   ],
   "source": [
    "import random\n",
    "import time\n",
    "print(\"------- Bienvenue au quizz des capitales ! -------\")\n",
    "print(\"Vous allez devoir me dire quel est la capitale du pays que je vais vous donner !\")\n",
    "continue_game = 1\n",
    "score = 0\n",
    "while continue_game == 1:\n",
    "    question = [\"Quelle est la capitale de la France ?\",\"Quelle est la capitale de l'Angleterre ?\",\"Quelle est la capitale du Japon ?\",\"Quelle est la capitale de la suisse ?\",\"Quelle est la capitale des Etats-Unis ?\"]\n",
    "    reponses = [\"Paris\",\"Londres\",\"Tokyo\",\"Berne\",\"Washington\"]\n",
    "    numeros = [1,2,3,4,5]\n",
    "    nombre = random.choice(numeros) - 1\n",
    "    reponseAttendue = reponses[nombre]\n",
    "    print(question[nombre])\n",
    "    startTime = time.perf_counter()\n",
    "    reponse = input(\"Alors ?\")\n",
    "    endTime = time.perf_counter()\n",
    "    reponse = reponse.capitalize()\n",
    "    try:\n",
    "        reponse = int(reponse)\n",
    "        print(\"C'est pas bon ! Il faut des lettres !\")\n",
    "        continue\n",
    "    except ValueError:\n",
    "        tempsMis = endTime - startTime\n",
    "    if tempsMis >= 30:\n",
    "        print(\"Trop long ! Si vous avez mis une bonne réponse, elle comptera nulle. Sinon, vous perdrez deux points !\")\n",
    "        score -= 1\n",
    "    if reponse != reponseAttendue:\n",
    "        print(\"C'est faux\")\n",
    "        if score >= 1:\n",
    "            score -= 1\n",
    "            print(\"Vous perdez un point.\")\n",
    "        else:\n",
    "            print(\"Vous n'avez pas assez de points pour qu'on vous en enlève\")\n",
    "    else:\n",
    "        score += 1\n",
    "        print(\"C'est correct\")\n",
    "        print(\"Vous gagnez un point !\")\n",
    "    print(f\"Vous avez {score} points\")\n",
    "    try:\n",
    "        continue_game = input(\"Voulez-vous continuer ? Si oui, mettez 1. Si non, mettez 0\")\n",
    "        continue_game = int(continue_game)\n",
    "    except ValueError:\n",
    "        print(\"Vous avez mis des lettres ! Il faut des chiffres !\")"
   ]
  },
  {
   "cell_type": "code",
   "execution_count": null,
   "id": "f0e2845f-86c2-4fbf-a342-4f8c5b3cf589",
   "metadata": {},
   "outputs": [],
   "source": []
  }
 ],
 "metadata": {
  "kernelspec": {
   "display_name": "Python 3 (ipykernel)",
   "language": "python",
   "name": "python3"
  },
  "language_info": {
   "codemirror_mode": {
    "name": "ipython",
    "version": 3
   },
   "file_extension": ".py",
   "mimetype": "text/x-python",
   "name": "python",
   "nbconvert_exporter": "python",
   "pygments_lexer": "ipython3",
   "version": "3.12.7"
  }
 },
 "nbformat": 4,
 "nbformat_minor": 5
}
